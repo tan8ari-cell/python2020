{
 "cells": [
  {
   "cell_type": "code",
   "execution_count": 1,
   "metadata": {},
   "outputs": [],
   "source": [
    "import pandas"
   ]
  },
  {
   "cell_type": "code",
   "execution_count": 4,
   "metadata": {},
   "outputs": [
    {
     "data": {
      "text/html": [
       "<div>\n",
       "<style scoped>\n",
       "    .dataframe tbody tr th:only-of-type {\n",
       "        vertical-align: middle;\n",
       "    }\n",
       "\n",
       "    .dataframe tbody tr th {\n",
       "        vertical-align: top;\n",
       "    }\n",
       "\n",
       "    .dataframe thead th {\n",
       "        text-align: right;\n",
       "    }\n",
       "</style>\n",
       "<table border=\"1\" class=\"dataframe\">\n",
       "  <thead>\n",
       "    <tr style=\"text-align: right;\">\n",
       "      <th></th>\n",
       "      <th>;Year;Month;Day;Hour;Temp;DewTemp;Pressure;WinDir;WinSpeed;Sky;Precip1;Precip6;ID</th>\n",
       "    </tr>\n",
       "  </thead>\n",
       "  <tbody>\n",
       "    <tr>\n",
       "      <th>0</th>\n",
       "      <td>0;2020;1;1;0;-9999;-9999;NaN;NaN;NaN;NaN;NaN;N...</td>\n",
       "    </tr>\n",
       "    <tr>\n",
       "      <th>1</th>\n",
       "      <td>1;2020;1;1;3;-5;-5;NaN;NaN;NaN;NaN;NaN;NaN;NaN</td>\n",
       "    </tr>\n",
       "    <tr>\n",
       "      <th>2</th>\n",
       "      <td>2;2020;1;1;6;-5;-4;NaN;NaN;NaN;NaN;NaN;NaN;NaN</td>\n",
       "    </tr>\n",
       "    <tr>\n",
       "      <th>3</th>\n",
       "      <td>3;2020;1;1;9;-5;-2;NaN;NaN;NaN;NaN;NaN;NaN;NaN</td>\n",
       "    </tr>\n",
       "    <tr>\n",
       "      <th>4</th>\n",
       "      <td>4;2020;1;1;12;-6;-2;NaN;NaN;NaN;NaN;NaN;NaN;NaN</td>\n",
       "    </tr>\n",
       "    <tr>\n",
       "      <th>5</th>\n",
       "      <td>5;2020;1;1;15;-2;-2;NaN;NaN;NaN;NaN;NaN;NaN;NaN</td>\n",
       "    </tr>\n",
       "    <tr>\n",
       "      <th>6</th>\n",
       "      <td>6;2020;1;1;3;-1;-1;NaN;NaN;NaN;NaN;NaN;NaN;NaN</td>\n",
       "    </tr>\n",
       "    <tr>\n",
       "      <th>7</th>\n",
       "      <td>7;2020;1;1;6;-9;-9;NaN;NaN;NaN;NaN;NaN;NaN;NaN</td>\n",
       "    </tr>\n",
       "    <tr>\n",
       "      <th>8</th>\n",
       "      <td>8;2020;1;1;0;0;1;NaN;NaN;NaN;NaN;NaN;NaN;NaN</td>\n",
       "    </tr>\n",
       "    <tr>\n",
       "      <th>9</th>\n",
       "      <td>9;2020;1;1;9;-3;-3;NaN;NaN;NaN;NaN;NaN;NaN;NaN</td>\n",
       "    </tr>\n",
       "    <tr>\n",
       "      <th>10</th>\n",
       "      <td>10;2020;1;2;6;8;8;NaN;NaN;NaN;NaN;NaN;NaN;NaN</td>\n",
       "    </tr>\n",
       "    <tr>\n",
       "      <th>11</th>\n",
       "      <td>11;2020;1;2;6;-5;5;NaN;NaN;NaN;NaN;NaN;NaN;NaN</td>\n",
       "    </tr>\n",
       "    <tr>\n",
       "      <th>12</th>\n",
       "      <td>12;2020;1;2;9;7;7;NaN;NaN;NaN;NaN;NaN;NaN;NaN</td>\n",
       "    </tr>\n",
       "  </tbody>\n",
       "</table>\n",
       "</div>"
      ],
      "text/plain": [
       "   ;Year;Month;Day;Hour;Temp;DewTemp;Pressure;WinDir;WinSpeed;Sky;Precip1;Precip6;ID\n",
       "0   0;2020;1;1;0;-9999;-9999;NaN;NaN;NaN;NaN;NaN;N...                               \n",
       "1      1;2020;1;1;3;-5;-5;NaN;NaN;NaN;NaN;NaN;NaN;NaN                               \n",
       "2      2;2020;1;1;6;-5;-4;NaN;NaN;NaN;NaN;NaN;NaN;NaN                               \n",
       "3      3;2020;1;1;9;-5;-2;NaN;NaN;NaN;NaN;NaN;NaN;NaN                               \n",
       "4     4;2020;1;1;12;-6;-2;NaN;NaN;NaN;NaN;NaN;NaN;NaN                               \n",
       "5     5;2020;1;1;15;-2;-2;NaN;NaN;NaN;NaN;NaN;NaN;NaN                               \n",
       "6      6;2020;1;1;3;-1;-1;NaN;NaN;NaN;NaN;NaN;NaN;NaN                               \n",
       "7      7;2020;1;1;6;-9;-9;NaN;NaN;NaN;NaN;NaN;NaN;NaN                               \n",
       "8        8;2020;1;1;0;0;1;NaN;NaN;NaN;NaN;NaN;NaN;NaN                               \n",
       "9      9;2020;1;1;9;-3;-3;NaN;NaN;NaN;NaN;NaN;NaN;NaN                               \n",
       "10      10;2020;1;2;6;8;8;NaN;NaN;NaN;NaN;NaN;NaN;NaN                               \n",
       "11     11;2020;1;2;6;-5;5;NaN;NaN;NaN;NaN;NaN;NaN;NaN                               \n",
       "12      12;2020;1;2;9;7;7;NaN;NaN;NaN;NaN;NaN;NaN;NaN                               "
      ]
     },
     "execution_count": 4,
     "metadata": {},
     "output_type": "execute_result"
    }
   ],
   "source": [
    "df=pandas.read_csv(\"D:\\\\python\\\\Concatenated1.csv\")\n",
    "df"
   ]
  },
  {
   "cell_type": "code",
   "execution_count": 7,
   "metadata": {},
   "outputs": [],
   "source": [
    "import os"
   ]
  },
  {
   "cell_type": "code",
   "execution_count": null,
   "metadata": {},
   "outputs": [],
   "source": []
  },
  {
   "cell_type": "code",
   "execution_count": null,
   "metadata": {},
   "outputs": [],
   "source": []
  }
 ],
 "metadata": {
  "kernelspec": {
   "display_name": "Python 3",
   "language": "python",
   "name": "python3"
  },
  "language_info": {
   "codemirror_mode": {
    "name": "ipython",
    "version": 3
   },
   "file_extension": ".py",
   "mimetype": "text/x-python",
   "name": "python",
   "nbconvert_exporter": "python",
   "pygments_lexer": "ipython3",
   "version": "3.8.1"
  }
 },
 "nbformat": 4,
 "nbformat_minor": 4
}
